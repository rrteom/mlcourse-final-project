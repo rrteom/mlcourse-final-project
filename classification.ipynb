{
 "cells": [
  {
   "cell_type": "code",
   "execution_count": 1,
   "metadata": {},
   "outputs": [],
   "source": [
    "import numpy as np\n",
    "import pandas as pd\n",
    "\n",
    "from sklearn.model_selection import GridSearchCV"
   ]
  },
  {
   "cell_type": "code",
   "execution_count": 2,
   "metadata": {},
   "outputs": [],
   "source": [
    "\n",
    "data_dir = '/media/arrteom/3923b309-fef1-47f0-a74c-cd259de5b45b/PAMAP2_Dataset/PAMAP2_Dataset/' \n",
    "data_path = os.path.join(data_dir, 'pamap_small_with_id.csv')"
   ]
  },
  {
   "cell_type": "code",
   "execution_count": 4,
   "metadata": {},
   "outputs": [
    {
     "data": {
      "text/plain": [
       "(84416, 42)"
      ]
     },
     "execution_count": 4,
     "metadata": {},
     "output_type": "execute_result"
    }
   ],
   "source": [
    "df_init = pd.read_csv(data_path)\n",
    "df_init = df_init[df_init.activityID.isin([2, 4, 5, 6, 17])]\n",
    "df_init.activityID = df_init.activityID.replace({1:0, 2:0, 3:0, 4:1, 5:2, 6:3, 16:4, 17:4})\n",
    "df_init.shape"
   ]
  },
  {
   "cell_type": "code",
   "execution_count": 5,
   "metadata": {},
   "outputs": [
    {
     "name": "stdout",
     "output_type": "stream",
     "text": [
      "full df shape (84416, 42)\n",
      "df_train.shape = (43699, 42), df_test.shape = (32876, 42)\n"
     ]
    }
   ],
   "source": [
    "print(f'full df shape {df_init.shape}')\n",
    "df_train = df_init[df_init.subjectID.isin([101, 102, 104, 105])]\n",
    "df_test = df_init[df_init.subjectID.isin([106, 107, 108])]\n",
    "del df_init\n",
    "print(f'{df_train.shape = }, {df_test.shape = }')"
   ]
  },
  {
   "cell_type": "code",
   "execution_count": 6,
   "metadata": {},
   "outputs": [],
   "source": [
    "from sklearn.preprocessing import StandardScaler\n",
    "from sklearn.impute import SimpleImputer\n",
    "from sklearn.pipeline import make_pipeline\n",
    "\n",
    "# pipe = make_pipeline(SimpleImputer(strategy='mean'), StandardScaler())\n",
    "pipe = make_pipeline(StandardScaler())\n",
    "X_train = pipe.fit_transform(df_train.drop(columns=['activityID', 'subjectID']))\n",
    "y_train = df_train['activityID']"
   ]
  },
  {
   "cell_type": "code",
   "execution_count": 7,
   "metadata": {},
   "outputs": [],
   "source": [
    "from lightgbm import LGBMClassifier"
   ]
  },
  {
   "cell_type": "code",
   "execution_count": 16,
   "metadata": {},
   "outputs": [],
   "source": [
    "param_grid = {\n",
    "    'reg_lambda': [10, 50, 100, 300],\n",
    "    'max_depth': [3, 5, 10]\n",
    "}\n",
    "grid_search = GridSearchCV(LGBMClassifier(), param_grid, cv=5, scoring='roc_auc_ovo')\n",
    "grid_search.fit(X_train, y_train)\n",
    "grid_search.best_score_, grid_search.best_params_ "
   ]
  },
  {
   "cell_type": "code",
   "execution_count": 19,
   "metadata": {},
   "outputs": [],
   "source": [
    "model = LGBMClassifier(**grid_search.best_params_).fit(X_train, y_train)"
   ]
  },
  {
   "cell_type": "code",
   "execution_count": 20,
   "metadata": {},
   "outputs": [],
   "source": [
    "X_test = pipe.transform(df_test.drop(columns=['activityID', 'subjectID']))\n",
    "y_test = df_test['activityID']"
   ]
  },
  {
   "cell_type": "code",
   "execution_count": 21,
   "metadata": {},
   "outputs": [
    {
     "name": "stdout",
     "output_type": "stream",
     "text": [
      "0.9567555286405565 0.9999999802981714\n"
     ]
    }
   ],
   "source": [
    "from sklearn.metrics import roc_auc_score\n",
    "\n",
    "preds = model.predict_proba(X_test)\n",
    "train_preds = model.predict_proba(X_train)\n",
    "print(roc_auc_score(y_test, preds, multi_class='ovo'), roc_auc_score(y_train, train_preds, multi_class='ovo'))"
   ]
  },
  {
   "cell_type": "code",
   "execution_count": 22,
   "metadata": {},
   "outputs": [
    {
     "name": "stdout",
     "output_type": "stream",
     "text": [
      "0.7514600316340188 0.9999084647245933\n"
     ]
    }
   ],
   "source": [
    "from sklearn.metrics import accuracy_score\n",
    "\n",
    "preds = model.predict_proba(X_test).argmax(axis=1)\n",
    "train_preds = model.predict_proba(X_train).argmax(axis=1)\n",
    "\n",
    "print(accuracy_score(y_test, preds), accuracy_score(y_train, train_preds))"
   ]
  },
  {
   "cell_type": "code",
   "execution_count": 23,
   "metadata": {},
   "outputs": [
    {
     "name": "stdout",
     "output_type": "stream",
     "text": [
      "[[4917.    8.    0.    0.  400.]\n",
      " [ 936. 7345.    0.    7.    9.]\n",
      " [ 166.  163. 1762. 1758.    0.]\n",
      " [ 148.  429.    4. 5688.    4.]\n",
      " [3643.  496.    0.    0. 4993.]]\n"
     ]
    }
   ],
   "source": [
    "preds = model.predict_proba(X_test).argmax(axis=1)\n",
    "confusion = np.empty((len(set(y_test)), len(set(preds))))\n",
    "df_conf = pd.DataFrame({'true': y_test, 'pred': preds})\n",
    "for true_label in set(y_test):\n",
    "    for pred_label in set(preds):\n",
    "        confusion[true_label, pred_label] = ((df_conf.true == true_label) & (df_conf.pred == pred_label)).sum()\n",
    "np.set_printoptions(suppress=True)\n",
    "print(confusion)"
   ]
  },
  {
   "cell_type": "code",
   "execution_count": 321,
   "metadata": {},
   "outputs": [
    {
     "name": "stdout",
     "output_type": "stream",
     "text": [
      "106\n",
      "ovo auc:  0.9237865188738986 0.9999990263854798\n",
      "acc:  0.6115155526141628 0.9991046672828097\n",
      "107\n",
      "ovo auc:  0.8824833191073369 0.9999990263854798\n",
      "acc:  0.6654554567096855 0.9991046672828097\n",
      "108\n",
      "ovo auc:  0.9922518109956883 0.9999990263854798\n",
      "acc:  0.8860780065005417 0.9991046672828097\n"
     ]
    }
   ],
   "source": [
    "for test_subj in [106, 107, 108]:\n",
    "    print(test_subj)\n",
    "    X_test = pipe.transform(df_test[df_test.subjectID == test_subj].drop(columns=['activityID', 'subjectID']))\n",
    "    y_test = df_test[df_test.subjectID == test_subj]['activityID']\n",
    "    \n",
    "    preds = model.predict_proba(X_test)\n",
    "    train_preds = model.predict_proba(X_train)\n",
    "    print('ovo auc: ', roc_auc_score(y_test, preds, multi_class='ovo'), roc_auc_score(y_train, train_preds, multi_class='ovo'))\n",
    "\n",
    "    preds = model.predict_proba(X_test).argmax(axis=1)\n",
    "    train_preds = model.predict_proba(X_train).argmax(axis=1)\n",
    "\n",
    "    print('acc: ', accuracy_score(y_test, preds), accuracy_score(y_train, train_preds))"
   ]
  },
  {
   "cell_type": "code",
   "execution_count": 322,
   "metadata": {},
   "outputs": [
    {
     "data": {
      "text/plain": [
       "(array([[0.98832832, 0.00254618, 0.00268733, 0.0012962 , 0.00514196],\n",
       "        [0.98770709, 0.00268171, 0.00283037, 0.00136519, 0.00541565]]),\n",
       " 153553    0\n",
       " 153554    0\n",
       " Name: activityID, dtype: int64)"
      ]
     },
     "execution_count": 322,
     "metadata": {},
     "output_type": "execute_result"
    }
   ],
   "source": [
    "model.predict_proba(X_test[:2]), y_test[:2]"
   ]
  },
  {
   "cell_type": "code",
   "execution_count": 323,
   "metadata": {},
   "outputs": [
    {
     "data": {
      "text/plain": [
       "(array([[0.01062628, 0.00448248, 0.94902743, 0.03141608, 0.00444773],\n",
       "        [0.01060995, 0.00447559, 0.94756912, 0.03290445, 0.00444089]]),\n",
       " 176601    2\n",
       " 176602    2\n",
       " Name: activityID, dtype: int64)"
      ]
     },
     "execution_count": 323,
     "metadata": {},
     "output_type": "execute_result"
    }
   ],
   "source": [
    "model.predict_proba(X_test[-2:]), y_test[-2:]"
   ]
  },
  {
   "cell_type": "code",
   "execution_count": 309,
   "metadata": {},
   "outputs": [
    {
     "data": {
      "text/plain": [
       "activityID\n",
       "0    6607\n",
       "4    5226\n",
       "1    2873\n",
       "3    2329\n",
       "2    1425\n",
       "Name: count, dtype: int64"
      ]
     },
     "execution_count": 309,
     "metadata": {},
     "output_type": "execute_result"
    }
   ],
   "source": [
    "y_test.value_counts()"
   ]
  },
  {
   "cell_type": "code",
   "execution_count": null,
   "metadata": {},
   "outputs": [],
   "source": []
  }
 ],
 "metadata": {
  "kernelspec": {
   "display_name": ".venv",
   "language": "python",
   "name": "python3"
  },
  "language_info": {
   "codemirror_mode": {
    "name": "ipython",
    "version": 3
   },
   "file_extension": ".py",
   "mimetype": "text/x-python",
   "name": "python",
   "nbconvert_exporter": "python",
   "pygments_lexer": "ipython3",
   "version": "3.10.6 (main, Nov 14 2022, 16:10:14) [GCC 11.3.0]"
  },
  "orig_nbformat": 4,
  "vscode": {
   "interpreter": {
    "hash": "3fa9378f9a1d8a3d2283e7e4bd652ac0b3a01e88871b32648bdc45c15fe76112"
   }
  }
 },
 "nbformat": 4,
 "nbformat_minor": 2
}
