{
 "cells": [
  {
   "cell_type": "code",
   "execution_count": 2,
   "metadata": {},
   "outputs": [],
   "source": [
    "import pandas as pd\n",
    "import os"
   ]
  },
  {
   "cell_type": "code",
   "execution_count": 3,
   "metadata": {},
   "outputs": [],
   "source": [
    "observables = ['acceleration16', 'acceleration6', 'gyroscope', 'magnetometer']\n",
    "sensor = ['temperature'] + [f'{obs}_{axis}' for obs in observables for axis in ['x', 'y', 'z']] + \\\n",
    "    [f'orientation_{n}' for n in range(4)]\n",
    "columns_names = ['timestamp', 'activityID', 'heart rate'] + \\\n",
    "    [f'{part}_{item}' for part in ['hand', 'chest', 'ankle'] for item in sensor]"
   ]
  },
  {
   "cell_type": "code",
   "execution_count": 4,
   "metadata": {},
   "outputs": [],
   "source": [
    "# we will drop all the orientation variables, check out dataset_readme for further explainations\n",
    "# timestamp does not have informational value as well\n",
    "cols_to_drop = [col for col in columns_names if 'orientation' in col] + ['timestamp']"
   ]
  },
  {
   "cell_type": "code",
   "execution_count": 5,
   "metadata": {},
   "outputs": [
    {
     "data": {
      "text/plain": [
       "True"
      ]
     },
     "execution_count": 5,
     "metadata": {},
     "output_type": "execute_result"
    }
   ],
   "source": [
    "data_dir = '/media/arrteom/3923b309-fef1-47f0-a74c-cd259de5b45b/PAMAP2_Dataset/PAMAP2_Dataset/Protocol'\n",
    "os.path.exists(data_dir)"
   ]
  },
  {
   "cell_type": "code",
   "execution_count": 6,
   "metadata": {},
   "outputs": [
    {
     "name": "stdout",
     "output_type": "stream",
     "text": [
      "file subject106.dat, df.shape = (250096, 41)\n",
      "file subject104.dat, df.shape = (231421, 41)\n",
      "file subject102.dat, df.shape = (263349, 41)\n",
      "file subject105.dat, df.shape = (272442, 41)\n",
      "file subject103.dat, df.shape = (174338, 41)\n",
      "file subject107.dat, df.shape = (232776, 41)\n",
      "file subject109.dat, df.shape = (6391, 41)\n",
      "file subject101.dat, df.shape = (249957, 41)\n",
      "file subject108.dat, df.shape = (262102, 41)\n",
      "df_init.shape = (1942872, 41)\n"
     ]
    }
   ],
   "source": [
    "df_init = None\n",
    "for file_name in os.listdir(data_dir):\n",
    "    df = pd.read_csv(os.path.join(data_dir, file_name), sep=' ', header=None, names=columns_names)\n",
    "    df.drop(columns=cols_to_drop, inplace=True)\n",
    "\n",
    "    # zeros should be ignored as they are not a distinguishable actions group (dataset_readme.pdf)\n",
    "    df = df[df['activityID'] != 0]\n",
    "    \n",
    "    print(f'file {file_name}, {df.shape = }')\n",
    "\n",
    "    if df_init is None:\n",
    "        df_init = df\n",
    "    else:\n",
    "        df_init = pd.concat((df_init, df))\n",
    "\n",
    "print(f'{df_init.shape = }')"
   ]
  },
  {
   "cell_type": "code",
   "execution_count": 8,
   "metadata": {},
   "outputs": [
    {
     "data": {
      "text/plain": [
       "activityID\n",
       "4     238761\n",
       "17    238690\n",
       "1     192523\n",
       "3     189931\n",
       "7     188107\n",
       "2     185188\n",
       "16    175353\n",
       "6     164600\n",
       "12    117216\n",
       "13    104944\n",
       "5      98199\n",
       "24     49360\n",
       "Name: count, dtype: int64"
      ]
     },
     "execution_count": 8,
     "metadata": {},
     "output_type": "execute_result"
    }
   ],
   "source": [
    "df_init.activityID.value_counts()"
   ]
  },
  {
   "cell_type": "code",
   "execution_count": 9,
   "metadata": {},
   "outputs": [
    {
     "name": "stdout",
     "output_type": "stream",
     "text": [
      "<class 'pandas.core.frame.DataFrame'>\n",
      "Index: 1942872 entries, 9588 to 388252\n",
      "Data columns (total 41 columns):\n",
      " #   Column                  Dtype  \n",
      "---  ------                  -----  \n",
      " 0   activityID              int64  \n",
      " 1   heart rate              float64\n",
      " 2   hand_temperature        float64\n",
      " 3   hand_acceleration16_x   float64\n",
      " 4   hand_acceleration16_y   float64\n",
      " 5   hand_acceleration16_z   float64\n",
      " 6   hand_acceleration6_x    float64\n",
      " 7   hand_acceleration6_y    float64\n",
      " 8   hand_acceleration6_z    float64\n",
      " 9   hand_gyroscope_x        float64\n",
      " 10  hand_gyroscope_y        float64\n",
      " 11  hand_gyroscope_z        float64\n",
      " 12  hand_magnetometer_x     float64\n",
      " 13  hand_magnetometer_y     float64\n",
      " 14  hand_magnetometer_z     float64\n",
      " 15  chest_temperature       float64\n",
      " 16  chest_acceleration16_x  float64\n",
      " 17  chest_acceleration16_y  float64\n",
      " 18  chest_acceleration16_z  float64\n",
      " 19  chest_acceleration6_x   float64\n",
      " 20  chest_acceleration6_y   float64\n",
      " 21  chest_acceleration6_z   float64\n",
      " 22  chest_gyroscope_x       float64\n",
      " 23  chest_gyroscope_y       float64\n",
      " 24  chest_gyroscope_z       float64\n",
      " 25  chest_magnetometer_x    float64\n",
      " 26  chest_magnetometer_y    float64\n",
      " 27  chest_magnetometer_z    float64\n",
      " 28  ankle_temperature       float64\n",
      " 29  ankle_acceleration16_x  float64\n",
      " 30  ankle_acceleration16_y  float64\n",
      " 31  ankle_acceleration16_z  float64\n",
      " 32  ankle_acceleration6_x   float64\n",
      " 33  ankle_acceleration6_y   float64\n",
      " 34  ankle_acceleration6_z   float64\n",
      " 35  ankle_gyroscope_x       float64\n",
      " 36  ankle_gyroscope_y       float64\n",
      " 37  ankle_gyroscope_z       float64\n",
      " 38  ankle_magnetometer_x    float64\n",
      " 39  ankle_magnetometer_y    float64\n",
      " 40  ankle_magnetometer_z    float64\n",
      "dtypes: float64(40), int64(1)\n",
      "memory usage: 622.6 MB\n"
     ]
    }
   ],
   "source": [
    "df_init.info()"
   ]
  },
  {
   "cell_type": "code",
   "execution_count": 10,
   "metadata": {},
   "outputs": [
    {
     "data": {
      "text/plain": [
       "['PerformedActivitiesSummary.pdf',\n",
       " 'readme.pdf',\n",
       " 'subjectInformation.pdf',\n",
       " 'Optional',\n",
       " 'DataCollectionProtocol.pdf',\n",
       " 'DescriptionOfActivities.pdf',\n",
       " 'Protocol']"
      ]
     },
     "execution_count": 10,
     "metadata": {},
     "output_type": "execute_result"
    }
   ],
   "source": [
    "os.listdir('/media/arrteom/3923b309-fef1-47f0-a74c-cd259de5b45b/PAMAP2_Dataset/PAMAP2_Dataset/')"
   ]
  },
  {
   "cell_type": "code",
   "execution_count": 11,
   "metadata": {},
   "outputs": [],
   "source": [
    "other_dir = '/media/arrteom/3923b309-fef1-47f0-a74c-cd259de5b45b/PAMAP2_Dataset/PAMAP2_Dataset/Optional'"
   ]
  },
  {
   "cell_type": "code",
   "execution_count": 13,
   "metadata": {},
   "outputs": [
    {
     "name": "stdout",
     "output_type": "stream",
     "text": [
      "file subject106.dat, df.shape = (112277, 41)\n",
      "file subject105.dat, df.shape = (139371, 41)\n",
      "file subject109.dat, df.shape = (158873, 41)\n",
      "file subject101.dat, df.shape = (219368, 41)\n",
      "file subject108.dat, df.shape = (152192, 41)\n",
      "df_opt.shape = (782081, 41)\n"
     ]
    }
   ],
   "source": [
    "df_opt = None\n",
    "for file_name in os.listdir(other_dir):\n",
    "    df = pd.read_csv(os.path.join(other_dir, file_name), sep=' ', header=None, names=columns_names)\n",
    "    df.drop(columns=cols_to_drop, inplace=True)\n",
    "\n",
    "    # zeros should be ignored as they are not a distinguishable actions group (dataset_readme.pdf)\n",
    "    df = df[df['activityID'] != 0]\n",
    "    \n",
    "    print(f'file {file_name}, {df.shape = }')\n",
    "\n",
    "    if df_opt is None:\n",
    "        df_opt = df\n",
    "    else:\n",
    "        df_opt = pd.concat((df_opt, df))\n",
    "\n",
    "print(f'{df_opt.shape = }')"
   ]
  },
  {
   "cell_type": "code",
   "execution_count": 14,
   "metadata": {},
   "outputs": [
    {
     "data": {
      "text/plain": [
       "activityID\n",
       "10    309935\n",
       "19    187188\n",
       "18     99878\n",
       "9      83646\n",
       "11     54519\n",
       "20     46915\n",
       "Name: count, dtype: int64"
      ]
     },
     "execution_count": 14,
     "metadata": {},
     "output_type": "execute_result"
    }
   ],
   "source": [
    "df_opt.activityID.value_counts()"
   ]
  },
  {
   "cell_type": "code",
   "execution_count": 15,
   "metadata": {},
   "outputs": [
    {
     "name": "stdout",
     "output_type": "stream",
     "text": [
      "<class 'pandas.core.frame.DataFrame'>\n",
      "Index: 782081 entries, 4268 to 179651\n",
      "Data columns (total 41 columns):\n",
      " #   Column                  Non-Null Count   Dtype  \n",
      "---  ------                  --------------   -----  \n",
      " 0   activityID              782081 non-null  int64  \n",
      " 1   heart rate              71419 non-null   float64\n",
      " 2   hand_temperature        781337 non-null  float64\n",
      " 3   hand_acceleration16_x   781337 non-null  float64\n",
      " 4   hand_acceleration16_y   781337 non-null  float64\n",
      " 5   hand_acceleration16_z   781337 non-null  float64\n",
      " 6   hand_acceleration6_x    781337 non-null  float64\n",
      " 7   hand_acceleration6_y    781337 non-null  float64\n",
      " 8   hand_acceleration6_z    781337 non-null  float64\n",
      " 9   hand_gyroscope_x        781337 non-null  float64\n",
      " 10  hand_gyroscope_y        781337 non-null  float64\n",
      " 11  hand_gyroscope_z        781337 non-null  float64\n",
      " 12  hand_magnetometer_x     781337 non-null  float64\n",
      " 13  hand_magnetometer_y     781337 non-null  float64\n",
      " 14  hand_magnetometer_z     781337 non-null  float64\n",
      " 15  chest_temperature       781443 non-null  float64\n",
      " 16  chest_acceleration16_x  781443 non-null  float64\n",
      " 17  chest_acceleration16_y  781443 non-null  float64\n",
      " 18  chest_acceleration16_z  781443 non-null  float64\n",
      " 19  chest_acceleration6_x   781443 non-null  float64\n",
      " 20  chest_acceleration6_y   781443 non-null  float64\n",
      " 21  chest_acceleration6_z   781443 non-null  float64\n",
      " 22  chest_gyroscope_x       781443 non-null  float64\n",
      " 23  chest_gyroscope_y       781443 non-null  float64\n",
      " 24  chest_gyroscope_z       781443 non-null  float64\n",
      " 25  chest_magnetometer_x    781443 non-null  float64\n",
      " 26  chest_magnetometer_y    781443 non-null  float64\n",
      " 27  chest_magnetometer_z    781443 non-null  float64\n",
      " 28  ankle_temperature       780721 non-null  float64\n",
      " 29  ankle_acceleration16_x  780721 non-null  float64\n",
      " 30  ankle_acceleration16_y  780721 non-null  float64\n",
      " 31  ankle_acceleration16_z  780721 non-null  float64\n",
      " 32  ankle_acceleration6_x   780721 non-null  float64\n",
      " 33  ankle_acceleration6_y   780721 non-null  float64\n",
      " 34  ankle_acceleration6_z   780721 non-null  float64\n",
      " 35  ankle_gyroscope_x       780721 non-null  float64\n",
      " 36  ankle_gyroscope_y       780721 non-null  float64\n",
      " 37  ankle_gyroscope_z       780721 non-null  float64\n",
      " 38  ankle_magnetometer_x    780721 non-null  float64\n",
      " 39  ankle_magnetometer_y    780721 non-null  float64\n",
      " 40  ankle_magnetometer_z    780721 non-null  float64\n",
      "dtypes: float64(40), int64(1)\n",
      "memory usage: 250.6 MB\n"
     ]
    }
   ],
   "source": [
    "df_opt.info()"
   ]
  },
  {
   "cell_type": "code",
   "execution_count": 16,
   "metadata": {},
   "outputs": [
    {
     "data": {
      "text/plain": [
       "(2724953, 41)"
      ]
     },
     "execution_count": 16,
     "metadata": {},
     "output_type": "execute_result"
    }
   ],
   "source": [
    "df_full = pd.concat((df_init, df_opt))\n",
    "df_full.shape"
   ]
  },
  {
   "cell_type": "code",
   "execution_count": 4,
   "metadata": {},
   "outputs": [],
   "source": [
    "out_dir = '/media/arrteom/3923b309-fef1-47f0-a74c-cd259de5b45b/PAMAP2_Dataset/PAMAP2_Dataset/'\n",
    "out_name = 'pamap_data_filtered.csv'"
   ]
  },
  {
   "cell_type": "code",
   "execution_count": 19,
   "metadata": {},
   "outputs": [],
   "source": [
    "df_full.to_csv(os.path.join(out_dir, out_name), index=False)"
   ]
  },
  {
   "cell_type": "code",
   "execution_count": 5,
   "metadata": {},
   "outputs": [],
   "source": [
    "df_full = pd.read_csv(os.path.join(out_dir, out_name))"
   ]
  },
  {
   "cell_type": "code",
   "execution_count": 7,
   "metadata": {},
   "outputs": [],
   "source": [
    "df_small = df_full[df_full['heart rate'].notna()]"
   ]
  },
  {
   "cell_type": "code",
   "execution_count": 14,
   "metadata": {},
   "outputs": [
    {
     "data": {
      "text/html": [
       "<div>\n",
       "<style scoped>\n",
       "    .dataframe tbody tr th:only-of-type {\n",
       "        vertical-align: middle;\n",
       "    }\n",
       "\n",
       "    .dataframe tbody tr th {\n",
       "        vertical-align: top;\n",
       "    }\n",
       "\n",
       "    .dataframe thead th {\n",
       "        text-align: right;\n",
       "    }\n",
       "</style>\n",
       "<table border=\"1\" class=\"dataframe\">\n",
       "  <thead>\n",
       "    <tr style=\"text-align: right;\">\n",
       "      <th></th>\n",
       "      <th>small</th>\n",
       "      <th>full</th>\n",
       "      <th>diff</th>\n",
       "    </tr>\n",
       "    <tr>\n",
       "      <th>activityID</th>\n",
       "      <th></th>\n",
       "      <th></th>\n",
       "      <th></th>\n",
       "    </tr>\n",
       "  </thead>\n",
       "  <tbody>\n",
       "    <tr>\n",
       "      <th>10</th>\n",
       "      <td>28290</td>\n",
       "      <td>309935</td>\n",
       "      <td>0.091277</td>\n",
       "    </tr>\n",
       "    <tr>\n",
       "      <th>4</th>\n",
       "      <td>21786</td>\n",
       "      <td>238761</td>\n",
       "      <td>0.091246</td>\n",
       "    </tr>\n",
       "    <tr>\n",
       "      <th>17</th>\n",
       "      <td>21770</td>\n",
       "      <td>238690</td>\n",
       "      <td>0.091206</td>\n",
       "    </tr>\n",
       "    <tr>\n",
       "      <th>1</th>\n",
       "      <td>17600</td>\n",
       "      <td>192523</td>\n",
       "      <td>0.091418</td>\n",
       "    </tr>\n",
       "    <tr>\n",
       "      <th>3</th>\n",
       "      <td>17350</td>\n",
       "      <td>189931</td>\n",
       "      <td>0.091349</td>\n",
       "    </tr>\n",
       "    <tr>\n",
       "      <th>7</th>\n",
       "      <td>17198</td>\n",
       "      <td>188107</td>\n",
       "      <td>0.091427</td>\n",
       "    </tr>\n",
       "    <tr>\n",
       "      <th>19</th>\n",
       "      <td>17084</td>\n",
       "      <td>187188</td>\n",
       "      <td>0.091267</td>\n",
       "    </tr>\n",
       "    <tr>\n",
       "      <th>2</th>\n",
       "      <td>16929</td>\n",
       "      <td>185188</td>\n",
       "      <td>0.091415</td>\n",
       "    </tr>\n",
       "    <tr>\n",
       "      <th>16</th>\n",
       "      <td>16028</td>\n",
       "      <td>175353</td>\n",
       "      <td>0.091404</td>\n",
       "    </tr>\n",
       "    <tr>\n",
       "      <th>6</th>\n",
       "      <td>15044</td>\n",
       "      <td>164600</td>\n",
       "      <td>0.091397</td>\n",
       "    </tr>\n",
       "    <tr>\n",
       "      <th>12</th>\n",
       "      <td>10709</td>\n",
       "      <td>117216</td>\n",
       "      <td>0.091361</td>\n",
       "    </tr>\n",
       "    <tr>\n",
       "      <th>13</th>\n",
       "      <td>9593</td>\n",
       "      <td>104944</td>\n",
       "      <td>0.091411</td>\n",
       "    </tr>\n",
       "    <tr>\n",
       "      <th>18</th>\n",
       "      <td>9131</td>\n",
       "      <td>99878</td>\n",
       "      <td>0.091422</td>\n",
       "    </tr>\n",
       "    <tr>\n",
       "      <th>5</th>\n",
       "      <td>8887</td>\n",
       "      <td>98199</td>\n",
       "      <td>0.090500</td>\n",
       "    </tr>\n",
       "    <tr>\n",
       "      <th>9</th>\n",
       "      <td>7647</td>\n",
       "      <td>83646</td>\n",
       "      <td>0.091421</td>\n",
       "    </tr>\n",
       "    <tr>\n",
       "      <th>11</th>\n",
       "      <td>4984</td>\n",
       "      <td>54519</td>\n",
       "      <td>0.091418</td>\n",
       "    </tr>\n",
       "    <tr>\n",
       "      <th>24</th>\n",
       "      <td>4514</td>\n",
       "      <td>49360</td>\n",
       "      <td>0.091451</td>\n",
       "    </tr>\n",
       "    <tr>\n",
       "      <th>20</th>\n",
       "      <td>4283</td>\n",
       "      <td>46915</td>\n",
       "      <td>0.091293</td>\n",
       "    </tr>\n",
       "  </tbody>\n",
       "</table>\n",
       "</div>"
      ],
      "text/plain": [
       "            small    full      diff\n",
       "activityID                         \n",
       "10          28290  309935  0.091277\n",
       "4           21786  238761  0.091246\n",
       "17          21770  238690  0.091206\n",
       "1           17600  192523  0.091418\n",
       "3           17350  189931  0.091349\n",
       "7           17198  188107  0.091427\n",
       "19          17084  187188  0.091267\n",
       "2           16929  185188  0.091415\n",
       "16          16028  175353  0.091404\n",
       "6           15044  164600  0.091397\n",
       "12          10709  117216  0.091361\n",
       "13           9593  104944  0.091411\n",
       "18           9131   99878  0.091422\n",
       "5            8887   98199  0.090500\n",
       "9            7647   83646  0.091421\n",
       "11           4984   54519  0.091418\n",
       "24           4514   49360  0.091451\n",
       "20           4283   46915  0.091293"
      ]
     },
     "execution_count": 14,
     "metadata": {},
     "output_type": "execute_result"
    }
   ],
   "source": [
    "counts = pd.DataFrame({'small': df_small.activityID.value_counts(), 'full': df_full.activityID.value_counts()})\n",
    "counts['diff'] = counts.small / counts.full\n",
    "counts  # видно, что довольно равномерно насемплили 9% в каждый класс"
   ]
  },
  {
   "cell_type": "code",
   "execution_count": 10,
   "metadata": {},
   "outputs": [
    {
     "name": "stdout",
     "output_type": "stream",
     "text": [
      "<class 'pandas.core.frame.DataFrame'>\n",
      "Index: 248827 entries, 6 to 2724946\n",
      "Data columns (total 41 columns):\n",
      " #   Column                  Non-Null Count   Dtype  \n",
      "---  ------                  --------------   -----  \n",
      " 0   activityID              248827 non-null  int64  \n",
      " 1   heart rate              248827 non-null  float64\n",
      " 2   hand_temperature        247765 non-null  float64\n",
      " 3   hand_acceleration16_x   247765 non-null  float64\n",
      " 4   hand_acceleration16_y   247765 non-null  float64\n",
      " 5   hand_acceleration16_z   247765 non-null  float64\n",
      " 6   hand_acceleration6_x    247765 non-null  float64\n",
      " 7   hand_acceleration6_y    247765 non-null  float64\n",
      " 8   hand_acceleration6_z    247765 non-null  float64\n",
      " 9   hand_gyroscope_x        247765 non-null  float64\n",
      " 10  hand_gyroscope_y        247765 non-null  float64\n",
      " 11  hand_gyroscope_z        247765 non-null  float64\n",
      " 12  hand_magnetometer_x     247765 non-null  float64\n",
      " 13  hand_magnetometer_y     247765 non-null  float64\n",
      " 14  hand_magnetometer_z     247765 non-null  float64\n",
      " 15  chest_temperature       248587 non-null  float64\n",
      " 16  chest_acceleration16_x  248587 non-null  float64\n",
      " 17  chest_acceleration16_y  248587 non-null  float64\n",
      " 18  chest_acceleration16_z  248587 non-null  float64\n",
      " 19  chest_acceleration6_x   248587 non-null  float64\n",
      " 20  chest_acceleration6_y   248587 non-null  float64\n",
      " 21  chest_acceleration6_z   248587 non-null  float64\n",
      " 22  chest_gyroscope_x       248587 non-null  float64\n",
      " 23  chest_gyroscope_y       248587 non-null  float64\n",
      " 24  chest_gyroscope_z       248587 non-null  float64\n",
      " 25  chest_magnetometer_x    248587 non-null  float64\n",
      " 26  chest_magnetometer_y    248587 non-null  float64\n",
      " 27  chest_magnetometer_z    248587 non-null  float64\n",
      " 28  ankle_temperature       247975 non-null  float64\n",
      " 29  ankle_acceleration16_x  247975 non-null  float64\n",
      " 30  ankle_acceleration16_y  247975 non-null  float64\n",
      " 31  ankle_acceleration16_z  247975 non-null  float64\n",
      " 32  ankle_acceleration6_x   247975 non-null  float64\n",
      " 33  ankle_acceleration6_y   247975 non-null  float64\n",
      " 34  ankle_acceleration6_z   247975 non-null  float64\n",
      " 35  ankle_gyroscope_x       247975 non-null  float64\n",
      " 36  ankle_gyroscope_y       247975 non-null  float64\n",
      " 37  ankle_gyroscope_z       247975 non-null  float64\n",
      " 38  ankle_magnetometer_x    247975 non-null  float64\n",
      " 39  ankle_magnetometer_y    247975 non-null  float64\n",
      " 40  ankle_magnetometer_z    247975 non-null  float64\n",
      "dtypes: float64(40), int64(1)\n",
      "memory usage: 79.7 MB\n"
     ]
    }
   ],
   "source": [
    "df_small.info()"
   ]
  },
  {
   "cell_type": "code",
   "execution_count": 11,
   "metadata": {},
   "outputs": [],
   "source": [
    "df_small.to_csv(os.path.join(out_dir, 'pamap_small.csv'), index=False)"
   ]
  },
  {
   "cell_type": "code",
   "execution_count": null,
   "metadata": {},
   "outputs": [],
   "source": []
  }
 ],
 "metadata": {
  "kernelspec": {
   "display_name": ".venv",
   "language": "python",
   "name": "python3"
  },
  "language_info": {
   "codemirror_mode": {
    "name": "ipython",
    "version": 3
   },
   "file_extension": ".py",
   "mimetype": "text/x-python",
   "name": "python",
   "nbconvert_exporter": "python",
   "pygments_lexer": "ipython3",
   "version": "3.10.6"
  },
  "orig_nbformat": 4,
  "vscode": {
   "interpreter": {
    "hash": "3fa9378f9a1d8a3d2283e7e4bd652ac0b3a01e88871b32648bdc45c15fe76112"
   }
  }
 },
 "nbformat": 4,
 "nbformat_minor": 2
}
